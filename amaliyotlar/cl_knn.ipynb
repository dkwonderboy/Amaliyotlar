{
  "nbformat": 4,
  "nbformat_minor": 0,
  "metadata": {
    "colab": {
      "provenance": []
    },
    "kernelspec": {
      "name": "python3",
      "display_name": "Python 3"
    },
    "language_info": {
      "name": "python"
    }
  },
  "cells": [
    {
      "cell_type": "code",
      "execution_count": 17,
      "metadata": {
        "colab": {
          "base_uri": "https://localhost:8080/"
        },
        "id": "rK-rurK3zgYc",
        "outputId": "26882cf5-3b7c-4d21-9b7f-098300d79332"
      },
      "outputs": [
        {
          "output_type": "stream",
          "name": "stdout",
          "text": [
            "Model aniqligi: 0.00%\n",
            "Xatolik matritsasi:\n",
            "[[0 0 2]\n",
            " [0 0 1]\n",
            " [0 0 0]]\n"
          ]
        }
      ],
      "source": [
        "import pandas as pd\n",
        "from sklearn.neighbors import KNeighborsClassifier\n",
        "from sklearn.model_selection import train_test_split\n",
        "from sklearn.metrics import accuracy_score\n",
        "import matplotlib.pyplot as plt\n",
        "from sklearn.preprocessing import StandardScaler\n",
        "\n",
        "# Avtomobillar haqidagi ma'lumotlar\n",
        "data = {\n",
        "    'Motor_Hajmi': [2.5, 1.6, 2.0, 3.0, 1.4, 2.2, 1.8, 3.5],\n",
        "    'Yil_Vaqti': [2020, 2018, 2019, 2021, 2022, 2020, 2017, 2023],\n",
        "    'Ogirlik': [2000, 1200, 1500, 2500, 1300, 1800, 1400, 2800],\n",
        "    'Tepalikdagi_Tezlik': [180, 160, 170, 220, 150, 190, 165, 230],\n",
        "    'Avtomobil_Turi': ['SUV', 'Sedan', 'Hatchback', 'SUV', 'Sedan', 'SUV', 'Hatchback', 'SUV']\n",
        "}\n",
        "\n",
        "# DataFrame yaratish\n",
        "df = pd.DataFrame(data)\n",
        "\n",
        "# Kategorik o'zgaruvchini raqamli shaklga o'tkazish\n",
        "df['Avtomobil_Turi'] = df['Avtomobil_Turi'].map({'SUV': 0, 'Sedan': 1, 'Hatchback': 2})\n",
        "\n",
        "# X (input) va y (target) ni ajratish\n",
        "X = df[['Motor_Hajmi', 'Yil_Vaqti', 'Ogirlik', 'Tepalikdagi_Tezlik']]  # Input (X)\n",
        "y = df['Avtomobil_Turi']  # Target (y) - Avtomobil turi (SUV = 0, Sedan = 1, Hatchback = 2)\n",
        "\n",
        "# Ma'lumotlarni o'rgatish va test uchun ajratish (train-test split)\n",
        "X_train, X_test, y_train, y_test = train_test_split(X, y, test_size=0.3, random_state=42)\n",
        "\n",
        "# Ma'lumotlarni normallashtirish (KNN uchun zarur)\n",
        "scaler = StandardScaler()\n",
        "X_train = scaler.fit_transform(X_train)\n",
        "X_test = scaler.transform(X_test)\n",
        "\n",
        "# KNN modelini yaratish\n",
        "model = KNeighborsClassifier(n_neighbors=3)\n",
        "model.fit(X_train, y_train)\n",
        "\n",
        "# Modelni test qilish (prognoz)\n",
        "y_pred = model.predict(X_test)\n",
        "\n",
        "# Modelning aniqligini hisoblash\n",
        "accuracy = accuracy_score(y_test, y_pred)\n",
        "print(f\"Model aniqligi: {accuracy * 100:.2f}%\")\n",
        "\n",
        "# KNN uchun xatolik matritsasini (Confusion Matrix) ko'rsatish\n",
        "from sklearn.metrics import confusion_matrix\n",
        "cm = confusion_matrix(y_test, y_pred)\n",
        "print(\"Xatolik matritsasi:\")\n",
        "print(cm)\n"
      ]
    }
  ]
}