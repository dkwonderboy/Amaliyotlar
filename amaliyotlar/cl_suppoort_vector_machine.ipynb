{
  "nbformat": 4,
  "nbformat_minor": 0,
  "metadata": {
    "colab": {
      "provenance": []
    },
    "kernelspec": {
      "name": "python3",
      "display_name": "Python 3"
    },
    "language_info": {
      "name": "python"
    }
  },
  "cells": [
    {
      "cell_type": "code",
      "execution_count": 16,
      "metadata": {
        "colab": {
          "base_uri": "https://localhost:8080/"
        },
        "id": "rK-rurK3zgYc",
        "outputId": "b9fe94de-18e0-4bad-a23e-76c71a797d19"
      },
      "outputs": [
        {
          "output_type": "stream",
          "name": "stdout",
          "text": [
            "Model aniqligi: 100.00%\n",
            "Xatolik matritsasi:\n",
            "[[2 0]\n",
            " [0 1]]\n"
          ]
        }
      ],
      "source": [
        "import pandas as pd\n",
        "from sklearn.svm import SVC\n",
        "from sklearn.model_selection import train_test_split\n",
        "from sklearn.metrics import accuracy_score\n",
        "import matplotlib.pyplot as plt\n",
        "from sklearn.preprocessing import StandardScaler\n",
        "\n",
        "# Bemorlar haqidagi ma'lumotlar\n",
        "data = {\n",
        "    'Yosh': [45, 50, 39, 30, 60, 40, 70, 35],\n",
        "    'Jins': ['Erkak', 'Ayol', 'Erkak', 'Ayol', 'Erkak', 'Ayol', 'Erkak', 'Ayol'],\n",
        "    'Boy': [175, 160, 180, 155, 170, 165, 180, 150],\n",
        "    'Ogirlik': [80, 65, 85, 55, 78, 70, 90, 60],\n",
        "    'Kasallik_Holati': [1, 0, 1, 0, 1, 0, 1, 0]  # 1 - Kasallik bor, 0 - Kasallik yo'q\n",
        "}\n",
        "\n",
        "# DataFrame yaratish\n",
        "df = pd.DataFrame(data)\n",
        "\n",
        "# Kategorik o'zgaruvchini raqamli shaklga o'tkazish\n",
        "df['Jins'] = df['Jins'].map({'Erkak': 1, 'Ayol': 0})\n",
        "\n",
        "# X (input) va y (target) ni ajratish\n",
        "X = df[['Yosh', 'Jins', 'Boy', 'Ogirlik']]  # Input (X) - Yosh, Jins, Boy, Ogirlik\n",
        "y = df['Kasallik_Holati']  # Target (y) - Kasallik Holati (1 yoki 0)\n",
        "\n",
        "# Ma'lumotlarni o'rgatish va test uchun ajratish (train-test split)\n",
        "X_train, X_test, y_train, y_test = train_test_split(X, y, test_size=0.3, random_state=42)\n",
        "\n",
        "# Ma'lumotlarni normallashtirish (SVM uchun zarur)\n",
        "scaler = StandardScaler()\n",
        "X_train = scaler.fit_transform(X_train)\n",
        "X_test = scaler.transform(X_test)\n",
        "\n",
        "# SVM modelini yaratish (RBF kernel)\n",
        "model = SVC(kernel='rbf', random_state=42)\n",
        "model.fit(X_train, y_train)\n",
        "\n",
        "# Modelni test qilish (prognoz)\n",
        "y_pred = model.predict(X_test)\n",
        "\n",
        "# Modelning aniqligini hisoblash\n",
        "accuracy = accuracy_score(y_test, y_pred)\n",
        "print(f\"Model aniqligi: {accuracy * 100:.2f}%\")\n",
        "\n",
        "# SVM uchun xatolik matritsasini (Confusion Matrix) ko'rsatish\n",
        "from sklearn.metrics import confusion_matrix\n",
        "cm = confusion_matrix(y_test, y_pred)\n",
        "print(\"Xatolik matritsasi:\")\n",
        "print(cm)\n",
        "\n"
      ]
    }
  ]
}